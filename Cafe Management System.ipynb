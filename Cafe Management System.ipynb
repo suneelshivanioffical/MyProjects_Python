{
 "cells": [
  {
   "cell_type": "code",
   "execution_count": 1,
   "metadata": {},
   "outputs": [
    {
     "name": "stdout",
     "output_type": "stream",
     "text": [
      "Wellcome to MyCafe\n",
      "Pizza : Rs750\n",
      "Snmall Burger : Rs250\n",
      "Large Burger : Rs350\n",
      "Fries : Rs150\n",
      "Orange Drinks : Rs100\n",
      "Tea : Rs70\n",
      "Coffee : Rs100\n",
      "What do you want to order : Fries\n",
      "Your itemFries is added to your cart\n",
      "Do you want to order another item (Yes/No)No\n",
      "The total amount have to pay is 150\n"
     ]
    }
   ],
   "source": [
    "\n",
    "order_total = 0\n",
    "\n",
    "#_Define the menu of Resturent\n",
    "\n",
    "menu = {\n",
    "\n",
    "        \"Pizza\" : 750,\n",
    "        \"Small Burger\" : 250,\n",
    "        \"Large Burger\" : 350,\n",
    "        \"Fries\" : 150,\n",
    "        \"Orange Drinks\" : 100,\n",
    "        \"Tea\" : 70,\n",
    "        \"Coffee\" : 100,\n",
    "\n",
    "}\n",
    "\n",
    "#_Greeting\n",
    "print(\"Wellcome to MyCafe\")\n",
    "print(\"Pizza : Rs750\\nSnmall Burger : Rs250\\nLarge Burger : Rs350\\nFries : Rs150\\nOrange Drinks : Rs100\\nTea : Rs70\\nCoffee : Rs100\")\n",
    "\n",
    "item_1 = input(\"What do you want to order : \")\n",
    "if item_1 in menu:\n",
    "    order_total += menu[item_1]\n",
    "    print(f\"Your item{item_1} is added to your cart\")\n",
    "else:\n",
    "      print(\"Ordered Item is not available yet!\")\n",
    "\n",
    "another_item = input(\"Do you want to order another item (Yes/No)\").upper()\n",
    "if another_item == \"YES\":\n",
    "    item_2 = input(\"What do you want to order : \")\n",
    "    if item_2 in menu:\n",
    "        order_total += menu[item_2]\n",
    "        print(f\"Your item{item_2} is added to your cart\")\n",
    "    else:\n",
    "        print(\"Ordered Item is not available yet!\")\n",
    "\n",
    "print(f\"The total amount have to pay is {order_total}\")\n"
   ]
  }
 ],
 "metadata": {
  "kernelspec": {
   "display_name": "Python 3",
   "language": "python",
   "name": "python3"
  },
  "language_info": {
   "codemirror_mode": {
    "name": "ipython",
    "version": 3
   },
   "file_extension": ".py",
   "mimetype": "text/x-python",
   "name": "python",
   "nbconvert_exporter": "python",
   "pygments_lexer": "ipython3",
   "version": "3.6.5"
  }
 },
 "nbformat": 4,
 "nbformat_minor": 2
}
