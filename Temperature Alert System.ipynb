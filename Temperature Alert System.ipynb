{
 "cells": [
  {
   "cell_type": "markdown",
   "metadata": {},
   "source": [
    "# Temperature Alert System"
   ]
  },
  {
   "cell_type": "code",
   "execution_count": null,
   "metadata": {},
   "outputs": [],
   "source": [
    "\n",
    "current_temp = float(input(\"Enter the current temperture :\"))\n",
    "\n",
    "if current_temp > 30.0:\n",
    "   print(\"High-temperature\")\n",
    "elif current_temp >= 20.0 and current_temp <= 30:\n",
    "    print(\"Normal temperature\")\n",
    "elif current_temp < 20.0:\n",
    "    print(\"Low temperature\")\n",
    "else:\n",
    "    print(\"Error\")"
   ]
  }
 ],
 "metadata": {
  "kernelspec": {
   "display_name": "Python 3",
   "language": "python",
   "name": "python3"
  },
  "language_info": {
   "codemirror_mode": {
    "name": "ipython",
    "version": 3
   },
   "file_extension": ".py",
   "mimetype": "text/x-python",
   "name": "python",
   "nbconvert_exporter": "python",
   "pygments_lexer": "ipython3",
   "version": "3.6.5"
  }
 },
 "nbformat": 4,
 "nbformat_minor": 2
}
